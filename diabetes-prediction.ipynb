{
 "cells": [
  {
   "cell_type": "code",
   "execution_count": 1,
   "id": "9cacfc7c",
   "metadata": {
    "_cell_guid": "b1076dfc-b9ad-4769-8c92-a6c4dae69d19",
    "_uuid": "8f2839f25d086af736a60e9eeb907d3b93b6e0e5",
    "execution": {
     "iopub.execute_input": "2025-08-29T11:35:17.975699Z",
     "iopub.status.busy": "2025-08-29T11:35:17.975353Z",
     "iopub.status.idle": "2025-08-29T11:35:20.232634Z",
     "shell.execute_reply": "2025-08-29T11:35:20.231482Z"
    },
    "papermill": {
     "duration": 2.267097,
     "end_time": "2025-08-29T11:35:20.234352",
     "exception": false,
     "start_time": "2025-08-29T11:35:17.967255",
     "status": "completed"
    },
    "tags": []
   },
   "outputs": [
    {
     "name": "stdout",
     "output_type": "stream",
     "text": [
      "/kaggle/input/diabetes-dataset/diabetes.csv\n"
     ]
    }
   ],
   "source": [
    "# This Python 3 environment comes with many helpful analytics libraries installed\n",
    "# It is defined by the kaggle/python Docker image: https://github.com/kaggle/docker-python\n",
    "# For example, here's several helpful packages to load\n",
    "\n",
    "import numpy as np # linear algebra\n",
    "import pandas as pd # data processing, CSV file I/O (e.g. pd.read_csv)\n",
    "\n",
    "# Input data files are available in the read-only \"../input/\" directory\n",
    "# For example, running this (by clicking run or pressing Shift+Enter) will list all files under the input directory\n",
    "\n",
    "import os\n",
    "for dirname, _, filenames in os.walk('/kaggle/input'):\n",
    "    for filename in filenames:\n",
    "        print(os.path.join(dirname, filename))\n",
    "\n",
    "# You can write up to 20GB to the current directory (/kaggle/working/) that gets preserved as output when you create a version using \"Save & Run All\" \n",
    "# You can also write temporary files to /kaggle/temp/, but they won't be saved outside of the current session"
   ]
  },
  {
   "cell_type": "markdown",
   "id": "6a131a55",
   "metadata": {
    "papermill": {
     "duration": 0.005488,
     "end_time": "2025-08-29T11:35:20.246286",
     "exception": false,
     "start_time": "2025-08-29T11:35:20.240798",
     "status": "completed"
    },
    "tags": []
   },
   "source": [
    "# Importing the dependencies"
   ]
  },
  {
   "cell_type": "code",
   "execution_count": 2,
   "id": "7298eb6d",
   "metadata": {
    "execution": {
     "iopub.execute_input": "2025-08-29T11:35:20.260663Z",
     "iopub.status.busy": "2025-08-29T11:35:20.260198Z",
     "iopub.status.idle": "2025-08-29T11:35:22.398937Z",
     "shell.execute_reply": "2025-08-29T11:35:22.397643Z"
    },
    "papermill": {
     "duration": 2.148802,
     "end_time": "2025-08-29T11:35:22.400923",
     "exception": false,
     "start_time": "2025-08-29T11:35:20.252121",
     "status": "completed"
    },
    "tags": []
   },
   "outputs": [],
   "source": [
    "import numpy as np\n",
    "import pandas as pd\n",
    "from sklearn.preprocessing import StandardScaler\n",
    "from sklearn.model_selection import train_test_split\n",
    "from sklearn import svm\n",
    "from sklearn.metrics import accuracy_score"
   ]
  },
  {
   "cell_type": "markdown",
   "id": "45296949",
   "metadata": {
    "papermill": {
     "duration": 0.005628,
     "end_time": "2025-08-29T11:35:22.412634",
     "exception": false,
     "start_time": "2025-08-29T11:35:22.407006",
     "status": "completed"
    },
    "tags": []
   },
   "source": [
    "# Data Collection and analysis"
   ]
  },
  {
   "cell_type": "code",
   "execution_count": 3,
   "id": "5721273d",
   "metadata": {
    "execution": {
     "iopub.execute_input": "2025-08-29T11:35:22.425814Z",
     "iopub.status.busy": "2025-08-29T11:35:22.425290Z",
     "iopub.status.idle": "2025-08-29T11:35:22.450483Z",
     "shell.execute_reply": "2025-08-29T11:35:22.449518Z"
    },
    "papermill": {
     "duration": 0.03402,
     "end_time": "2025-08-29T11:35:22.452432",
     "exception": false,
     "start_time": "2025-08-29T11:35:22.418412",
     "status": "completed"
    },
    "tags": []
   },
   "outputs": [],
   "source": [
    "#loading the Diabetes dataset to a pandas DataFramr\n",
    "df = pd.read_csv('/kaggle/input/diabetes-dataset/diabetes.csv')"
   ]
  },
  {
   "cell_type": "code",
   "execution_count": 4,
   "id": "08bacfa4",
   "metadata": {
    "execution": {
     "iopub.execute_input": "2025-08-29T11:35:22.466702Z",
     "iopub.status.busy": "2025-08-29T11:35:22.466257Z",
     "iopub.status.idle": "2025-08-29T11:35:22.503684Z",
     "shell.execute_reply": "2025-08-29T11:35:22.502376Z"
    },
    "papermill": {
     "duration": 0.047202,
     "end_time": "2025-08-29T11:35:22.505655",
     "exception": false,
     "start_time": "2025-08-29T11:35:22.458453",
     "status": "completed"
    },
    "tags": []
   },
   "outputs": [
    {
     "name": "stdout",
     "output_type": "stream",
     "text": [
      "<class 'pandas.core.frame.DataFrame'>\n",
      "RangeIndex: 768 entries, 0 to 767\n",
      "Data columns (total 9 columns):\n",
      " #   Column                    Non-Null Count  Dtype  \n",
      "---  ------                    --------------  -----  \n",
      " 0   Pregnancies               768 non-null    int64  \n",
      " 1   Glucose                   768 non-null    int64  \n",
      " 2   BloodPressure             768 non-null    int64  \n",
      " 3   SkinThickness             768 non-null    int64  \n",
      " 4   Insulin                   768 non-null    int64  \n",
      " 5   BMI                       768 non-null    float64\n",
      " 6   DiabetesPedigreeFunction  768 non-null    float64\n",
      " 7   Age                       768 non-null    int64  \n",
      " 8   Outcome                   768 non-null    int64  \n",
      "dtypes: float64(2), int64(7)\n",
      "memory usage: 54.1 KB\n"
     ]
    }
   ],
   "source": [
    "df.info()"
   ]
  },
  {
   "cell_type": "code",
   "execution_count": 5,
   "id": "c43d2e1b",
   "metadata": {
    "execution": {
     "iopub.execute_input": "2025-08-29T11:35:22.520117Z",
     "iopub.status.busy": "2025-08-29T11:35:22.519785Z",
     "iopub.status.idle": "2025-08-29T11:35:22.547906Z",
     "shell.execute_reply": "2025-08-29T11:35:22.546979Z"
    },
    "papermill": {
     "duration": 0.036511,
     "end_time": "2025-08-29T11:35:22.549556",
     "exception": false,
     "start_time": "2025-08-29T11:35:22.513045",
     "status": "completed"
    },
    "tags": []
   },
   "outputs": [
    {
     "data": {
      "text/html": [
       "<div>\n",
       "<style scoped>\n",
       "    .dataframe tbody tr th:only-of-type {\n",
       "        vertical-align: middle;\n",
       "    }\n",
       "\n",
       "    .dataframe tbody tr th {\n",
       "        vertical-align: top;\n",
       "    }\n",
       "\n",
       "    .dataframe thead th {\n",
       "        text-align: right;\n",
       "    }\n",
       "</style>\n",
       "<table border=\"1\" class=\"dataframe\">\n",
       "  <thead>\n",
       "    <tr style=\"text-align: right;\">\n",
       "      <th></th>\n",
       "      <th>Pregnancies</th>\n",
       "      <th>Glucose</th>\n",
       "      <th>BloodPressure</th>\n",
       "      <th>SkinThickness</th>\n",
       "      <th>Insulin</th>\n",
       "      <th>BMI</th>\n",
       "      <th>DiabetesPedigreeFunction</th>\n",
       "      <th>Age</th>\n",
       "      <th>Outcome</th>\n",
       "    </tr>\n",
       "  </thead>\n",
       "  <tbody>\n",
       "    <tr>\n",
       "      <th>0</th>\n",
       "      <td>6</td>\n",
       "      <td>148</td>\n",
       "      <td>72</td>\n",
       "      <td>35</td>\n",
       "      <td>0</td>\n",
       "      <td>33.6</td>\n",
       "      <td>0.627</td>\n",
       "      <td>50</td>\n",
       "      <td>1</td>\n",
       "    </tr>\n",
       "    <tr>\n",
       "      <th>1</th>\n",
       "      <td>1</td>\n",
       "      <td>85</td>\n",
       "      <td>66</td>\n",
       "      <td>29</td>\n",
       "      <td>0</td>\n",
       "      <td>26.6</td>\n",
       "      <td>0.351</td>\n",
       "      <td>31</td>\n",
       "      <td>0</td>\n",
       "    </tr>\n",
       "    <tr>\n",
       "      <th>2</th>\n",
       "      <td>8</td>\n",
       "      <td>183</td>\n",
       "      <td>64</td>\n",
       "      <td>0</td>\n",
       "      <td>0</td>\n",
       "      <td>23.3</td>\n",
       "      <td>0.672</td>\n",
       "      <td>32</td>\n",
       "      <td>1</td>\n",
       "    </tr>\n",
       "    <tr>\n",
       "      <th>3</th>\n",
       "      <td>1</td>\n",
       "      <td>89</td>\n",
       "      <td>66</td>\n",
       "      <td>23</td>\n",
       "      <td>94</td>\n",
       "      <td>28.1</td>\n",
       "      <td>0.167</td>\n",
       "      <td>21</td>\n",
       "      <td>0</td>\n",
       "    </tr>\n",
       "    <tr>\n",
       "      <th>4</th>\n",
       "      <td>0</td>\n",
       "      <td>137</td>\n",
       "      <td>40</td>\n",
       "      <td>35</td>\n",
       "      <td>168</td>\n",
       "      <td>43.1</td>\n",
       "      <td>2.288</td>\n",
       "      <td>33</td>\n",
       "      <td>1</td>\n",
       "    </tr>\n",
       "  </tbody>\n",
       "</table>\n",
       "</div>"
      ],
      "text/plain": [
       "   Pregnancies  Glucose  BloodPressure  SkinThickness  Insulin   BMI  \\\n",
       "0            6      148             72             35        0  33.6   \n",
       "1            1       85             66             29        0  26.6   \n",
       "2            8      183             64              0        0  23.3   \n",
       "3            1       89             66             23       94  28.1   \n",
       "4            0      137             40             35      168  43.1   \n",
       "\n",
       "   DiabetesPedigreeFunction  Age  Outcome  \n",
       "0                     0.627   50        1  \n",
       "1                     0.351   31        0  \n",
       "2                     0.672   32        1  \n",
       "3                     0.167   21        0  \n",
       "4                     2.288   33        1  "
      ]
     },
     "execution_count": 5,
     "metadata": {},
     "output_type": "execute_result"
    }
   ],
   "source": [
    "df.head()"
   ]
  },
  {
   "cell_type": "code",
   "execution_count": 6,
   "id": "1b469956",
   "metadata": {
    "execution": {
     "iopub.execute_input": "2025-08-29T11:35:22.563523Z",
     "iopub.status.busy": "2025-08-29T11:35:22.563163Z",
     "iopub.status.idle": "2025-08-29T11:35:22.569429Z",
     "shell.execute_reply": "2025-08-29T11:35:22.568472Z"
    },
    "papermill": {
     "duration": 0.015457,
     "end_time": "2025-08-29T11:35:22.571386",
     "exception": false,
     "start_time": "2025-08-29T11:35:22.555929",
     "status": "completed"
    },
    "tags": []
   },
   "outputs": [
    {
     "data": {
      "text/plain": [
       "(768, 9)"
      ]
     },
     "execution_count": 6,
     "metadata": {},
     "output_type": "execute_result"
    }
   ],
   "source": [
    "df.shape"
   ]
  },
  {
   "cell_type": "code",
   "execution_count": 7,
   "id": "4deaf71c",
   "metadata": {
    "execution": {
     "iopub.execute_input": "2025-08-29T11:35:22.586508Z",
     "iopub.status.busy": "2025-08-29T11:35:22.586205Z",
     "iopub.status.idle": "2025-08-29T11:35:22.623381Z",
     "shell.execute_reply": "2025-08-29T11:35:22.622379Z"
    },
    "papermill": {
     "duration": 0.048158,
     "end_time": "2025-08-29T11:35:22.625836",
     "exception": false,
     "start_time": "2025-08-29T11:35:22.577678",
     "status": "completed"
    },
    "tags": []
   },
   "outputs": [
    {
     "data": {
      "text/html": [
       "<div>\n",
       "<style scoped>\n",
       "    .dataframe tbody tr th:only-of-type {\n",
       "        vertical-align: middle;\n",
       "    }\n",
       "\n",
       "    .dataframe tbody tr th {\n",
       "        vertical-align: top;\n",
       "    }\n",
       "\n",
       "    .dataframe thead th {\n",
       "        text-align: right;\n",
       "    }\n",
       "</style>\n",
       "<table border=\"1\" class=\"dataframe\">\n",
       "  <thead>\n",
       "    <tr style=\"text-align: right;\">\n",
       "      <th></th>\n",
       "      <th>Pregnancies</th>\n",
       "      <th>Glucose</th>\n",
       "      <th>BloodPressure</th>\n",
       "      <th>SkinThickness</th>\n",
       "      <th>Insulin</th>\n",
       "      <th>BMI</th>\n",
       "      <th>DiabetesPedigreeFunction</th>\n",
       "      <th>Age</th>\n",
       "      <th>Outcome</th>\n",
       "    </tr>\n",
       "  </thead>\n",
       "  <tbody>\n",
       "    <tr>\n",
       "      <th>count</th>\n",
       "      <td>768.000000</td>\n",
       "      <td>768.000000</td>\n",
       "      <td>768.000000</td>\n",
       "      <td>768.000000</td>\n",
       "      <td>768.000000</td>\n",
       "      <td>768.000000</td>\n",
       "      <td>768.000000</td>\n",
       "      <td>768.000000</td>\n",
       "      <td>768.000000</td>\n",
       "    </tr>\n",
       "    <tr>\n",
       "      <th>mean</th>\n",
       "      <td>3.845052</td>\n",
       "      <td>120.894531</td>\n",
       "      <td>69.105469</td>\n",
       "      <td>20.536458</td>\n",
       "      <td>79.799479</td>\n",
       "      <td>31.992578</td>\n",
       "      <td>0.471876</td>\n",
       "      <td>33.240885</td>\n",
       "      <td>0.348958</td>\n",
       "    </tr>\n",
       "    <tr>\n",
       "      <th>std</th>\n",
       "      <td>3.369578</td>\n",
       "      <td>31.972618</td>\n",
       "      <td>19.355807</td>\n",
       "      <td>15.952218</td>\n",
       "      <td>115.244002</td>\n",
       "      <td>7.884160</td>\n",
       "      <td>0.331329</td>\n",
       "      <td>11.760232</td>\n",
       "      <td>0.476951</td>\n",
       "    </tr>\n",
       "    <tr>\n",
       "      <th>min</th>\n",
       "      <td>0.000000</td>\n",
       "      <td>0.000000</td>\n",
       "      <td>0.000000</td>\n",
       "      <td>0.000000</td>\n",
       "      <td>0.000000</td>\n",
       "      <td>0.000000</td>\n",
       "      <td>0.078000</td>\n",
       "      <td>21.000000</td>\n",
       "      <td>0.000000</td>\n",
       "    </tr>\n",
       "    <tr>\n",
       "      <th>25%</th>\n",
       "      <td>1.000000</td>\n",
       "      <td>99.000000</td>\n",
       "      <td>62.000000</td>\n",
       "      <td>0.000000</td>\n",
       "      <td>0.000000</td>\n",
       "      <td>27.300000</td>\n",
       "      <td>0.243750</td>\n",
       "      <td>24.000000</td>\n",
       "      <td>0.000000</td>\n",
       "    </tr>\n",
       "    <tr>\n",
       "      <th>50%</th>\n",
       "      <td>3.000000</td>\n",
       "      <td>117.000000</td>\n",
       "      <td>72.000000</td>\n",
       "      <td>23.000000</td>\n",
       "      <td>30.500000</td>\n",
       "      <td>32.000000</td>\n",
       "      <td>0.372500</td>\n",
       "      <td>29.000000</td>\n",
       "      <td>0.000000</td>\n",
       "    </tr>\n",
       "    <tr>\n",
       "      <th>75%</th>\n",
       "      <td>6.000000</td>\n",
       "      <td>140.250000</td>\n",
       "      <td>80.000000</td>\n",
       "      <td>32.000000</td>\n",
       "      <td>127.250000</td>\n",
       "      <td>36.600000</td>\n",
       "      <td>0.626250</td>\n",
       "      <td>41.000000</td>\n",
       "      <td>1.000000</td>\n",
       "    </tr>\n",
       "    <tr>\n",
       "      <th>max</th>\n",
       "      <td>17.000000</td>\n",
       "      <td>199.000000</td>\n",
       "      <td>122.000000</td>\n",
       "      <td>99.000000</td>\n",
       "      <td>846.000000</td>\n",
       "      <td>67.100000</td>\n",
       "      <td>2.420000</td>\n",
       "      <td>81.000000</td>\n",
       "      <td>1.000000</td>\n",
       "    </tr>\n",
       "  </tbody>\n",
       "</table>\n",
       "</div>"
      ],
      "text/plain": [
       "       Pregnancies     Glucose  BloodPressure  SkinThickness     Insulin  \\\n",
       "count   768.000000  768.000000     768.000000     768.000000  768.000000   \n",
       "mean      3.845052  120.894531      69.105469      20.536458   79.799479   \n",
       "std       3.369578   31.972618      19.355807      15.952218  115.244002   \n",
       "min       0.000000    0.000000       0.000000       0.000000    0.000000   \n",
       "25%       1.000000   99.000000      62.000000       0.000000    0.000000   \n",
       "50%       3.000000  117.000000      72.000000      23.000000   30.500000   \n",
       "75%       6.000000  140.250000      80.000000      32.000000  127.250000   \n",
       "max      17.000000  199.000000     122.000000      99.000000  846.000000   \n",
       "\n",
       "              BMI  DiabetesPedigreeFunction         Age     Outcome  \n",
       "count  768.000000                768.000000  768.000000  768.000000  \n",
       "mean    31.992578                  0.471876   33.240885    0.348958  \n",
       "std      7.884160                  0.331329   11.760232    0.476951  \n",
       "min      0.000000                  0.078000   21.000000    0.000000  \n",
       "25%     27.300000                  0.243750   24.000000    0.000000  \n",
       "50%     32.000000                  0.372500   29.000000    0.000000  \n",
       "75%     36.600000                  0.626250   41.000000    1.000000  \n",
       "max     67.100000                  2.420000   81.000000    1.000000  "
      ]
     },
     "execution_count": 7,
     "metadata": {},
     "output_type": "execute_result"
    }
   ],
   "source": [
    "df.describe()"
   ]
  },
  {
   "cell_type": "code",
   "execution_count": 8,
   "id": "034ff3cc",
   "metadata": {
    "execution": {
     "iopub.execute_input": "2025-08-29T11:35:22.641207Z",
     "iopub.status.busy": "2025-08-29T11:35:22.640779Z",
     "iopub.status.idle": "2025-08-29T11:35:22.648545Z",
     "shell.execute_reply": "2025-08-29T11:35:22.647640Z"
    },
    "papermill": {
     "duration": 0.017197,
     "end_time": "2025-08-29T11:35:22.649996",
     "exception": false,
     "start_time": "2025-08-29T11:35:22.632799",
     "status": "completed"
    },
    "tags": []
   },
   "outputs": [
    {
     "data": {
      "text/plain": [
       "Pregnancies                 0\n",
       "Glucose                     0\n",
       "BloodPressure               0\n",
       "SkinThickness               0\n",
       "Insulin                     0\n",
       "BMI                         0\n",
       "DiabetesPedigreeFunction    0\n",
       "Age                         0\n",
       "Outcome                     0\n",
       "dtype: int64"
      ]
     },
     "execution_count": 8,
     "metadata": {},
     "output_type": "execute_result"
    }
   ],
   "source": [
    "df.isnull().sum()"
   ]
  },
  {
   "cell_type": "code",
   "execution_count": 9,
   "id": "42bbfec5",
   "metadata": {
    "execution": {
     "iopub.execute_input": "2025-08-29T11:35:22.664398Z",
     "iopub.status.busy": "2025-08-29T11:35:22.664069Z",
     "iopub.status.idle": "2025-08-29T11:35:22.674048Z",
     "shell.execute_reply": "2025-08-29T11:35:22.672974Z"
    },
    "papermill": {
     "duration": 0.019236,
     "end_time": "2025-08-29T11:35:22.675822",
     "exception": false,
     "start_time": "2025-08-29T11:35:22.656586",
     "status": "completed"
    },
    "tags": []
   },
   "outputs": [
    {
     "data": {
      "text/plain": [
       "Outcome\n",
       "0    500\n",
       "1    268\n",
       "Name: count, dtype: int64"
      ]
     },
     "execution_count": 9,
     "metadata": {},
     "output_type": "execute_result"
    }
   ],
   "source": [
    "df['Outcome'].value_counts()"
   ]
  },
  {
   "cell_type": "code",
   "execution_count": 10,
   "id": "91993443",
   "metadata": {
    "execution": {
     "iopub.execute_input": "2025-08-29T11:35:22.690266Z",
     "iopub.status.busy": "2025-08-29T11:35:22.689905Z",
     "iopub.status.idle": "2025-08-29T11:35:22.707192Z",
     "shell.execute_reply": "2025-08-29T11:35:22.706088Z"
    },
    "papermill": {
     "duration": 0.026508,
     "end_time": "2025-08-29T11:35:22.708949",
     "exception": false,
     "start_time": "2025-08-29T11:35:22.682441",
     "status": "completed"
    },
    "tags": []
   },
   "outputs": [
    {
     "data": {
      "text/html": [
       "<div>\n",
       "<style scoped>\n",
       "    .dataframe tbody tr th:only-of-type {\n",
       "        vertical-align: middle;\n",
       "    }\n",
       "\n",
       "    .dataframe tbody tr th {\n",
       "        vertical-align: top;\n",
       "    }\n",
       "\n",
       "    .dataframe thead th {\n",
       "        text-align: right;\n",
       "    }\n",
       "</style>\n",
       "<table border=\"1\" class=\"dataframe\">\n",
       "  <thead>\n",
       "    <tr style=\"text-align: right;\">\n",
       "      <th></th>\n",
       "      <th>Pregnancies</th>\n",
       "      <th>Glucose</th>\n",
       "      <th>BloodPressure</th>\n",
       "      <th>SkinThickness</th>\n",
       "      <th>Insulin</th>\n",
       "      <th>BMI</th>\n",
       "      <th>DiabetesPedigreeFunction</th>\n",
       "      <th>Age</th>\n",
       "    </tr>\n",
       "    <tr>\n",
       "      <th>Outcome</th>\n",
       "      <th></th>\n",
       "      <th></th>\n",
       "      <th></th>\n",
       "      <th></th>\n",
       "      <th></th>\n",
       "      <th></th>\n",
       "      <th></th>\n",
       "      <th></th>\n",
       "    </tr>\n",
       "  </thead>\n",
       "  <tbody>\n",
       "    <tr>\n",
       "      <th>0</th>\n",
       "      <td>3.298000</td>\n",
       "      <td>109.980000</td>\n",
       "      <td>68.184000</td>\n",
       "      <td>19.664000</td>\n",
       "      <td>68.792000</td>\n",
       "      <td>30.304200</td>\n",
       "      <td>0.429734</td>\n",
       "      <td>31.190000</td>\n",
       "    </tr>\n",
       "    <tr>\n",
       "      <th>1</th>\n",
       "      <td>4.865672</td>\n",
       "      <td>141.257463</td>\n",
       "      <td>70.824627</td>\n",
       "      <td>22.164179</td>\n",
       "      <td>100.335821</td>\n",
       "      <td>35.142537</td>\n",
       "      <td>0.550500</td>\n",
       "      <td>37.067164</td>\n",
       "    </tr>\n",
       "  </tbody>\n",
       "</table>\n",
       "</div>"
      ],
      "text/plain": [
       "         Pregnancies     Glucose  BloodPressure  SkinThickness     Insulin  \\\n",
       "Outcome                                                                      \n",
       "0           3.298000  109.980000      68.184000      19.664000   68.792000   \n",
       "1           4.865672  141.257463      70.824627      22.164179  100.335821   \n",
       "\n",
       "               BMI  DiabetesPedigreeFunction        Age  \n",
       "Outcome                                                  \n",
       "0        30.304200                  0.429734  31.190000  \n",
       "1        35.142537                  0.550500  37.067164  "
      ]
     },
     "execution_count": 10,
     "metadata": {},
     "output_type": "execute_result"
    }
   ],
   "source": [
    "# grouping the outcomes and showing the means of each feature\n",
    "df.groupby('Outcome').mean()"
   ]
  },
  {
   "cell_type": "code",
   "execution_count": 11,
   "id": "26de6b8e",
   "metadata": {
    "execution": {
     "iopub.execute_input": "2025-08-29T11:35:22.724756Z",
     "iopub.status.busy": "2025-08-29T11:35:22.724393Z",
     "iopub.status.idle": "2025-08-29T11:35:22.731822Z",
     "shell.execute_reply": "2025-08-29T11:35:22.730921Z"
    },
    "papermill": {
     "duration": 0.016744,
     "end_time": "2025-08-29T11:35:22.733485",
     "exception": false,
     "start_time": "2025-08-29T11:35:22.716741",
     "status": "completed"
    },
    "tags": []
   },
   "outputs": [],
   "source": [
    "#Seperating the data and labels\n",
    "\n",
    "X = df.drop(columns='Outcome',axis = 1)\n",
    "Y = df['Outcome']"
   ]
  },
  {
   "cell_type": "code",
   "execution_count": 12,
   "id": "d26ddc7a",
   "metadata": {
    "execution": {
     "iopub.execute_input": "2025-08-29T11:35:22.748353Z",
     "iopub.status.busy": "2025-08-29T11:35:22.748029Z",
     "iopub.status.idle": "2025-08-29T11:35:22.759993Z",
     "shell.execute_reply": "2025-08-29T11:35:22.758517Z"
    },
    "papermill": {
     "duration": 0.021698,
     "end_time": "2025-08-29T11:35:22.761921",
     "exception": false,
     "start_time": "2025-08-29T11:35:22.740223",
     "status": "completed"
    },
    "tags": []
   },
   "outputs": [
    {
     "name": "stdout",
     "output_type": "stream",
     "text": [
      "     Pregnancies  Glucose  BloodPressure  SkinThickness  Insulin   BMI  \\\n",
      "0              6      148             72             35        0  33.6   \n",
      "1              1       85             66             29        0  26.6   \n",
      "2              8      183             64              0        0  23.3   \n",
      "3              1       89             66             23       94  28.1   \n",
      "4              0      137             40             35      168  43.1   \n",
      "..           ...      ...            ...            ...      ...   ...   \n",
      "763           10      101             76             48      180  32.9   \n",
      "764            2      122             70             27        0  36.8   \n",
      "765            5      121             72             23      112  26.2   \n",
      "766            1      126             60              0        0  30.1   \n",
      "767            1       93             70             31        0  30.4   \n",
      "\n",
      "     DiabetesPedigreeFunction  Age  \n",
      "0                       0.627   50  \n",
      "1                       0.351   31  \n",
      "2                       0.672   32  \n",
      "3                       0.167   21  \n",
      "4                       2.288   33  \n",
      "..                        ...  ...  \n",
      "763                     0.171   63  \n",
      "764                     0.340   27  \n",
      "765                     0.245   30  \n",
      "766                     0.349   47  \n",
      "767                     0.315   23  \n",
      "\n",
      "[768 rows x 8 columns]\n"
     ]
    }
   ],
   "source": [
    "print(X)"
   ]
  },
  {
   "cell_type": "code",
   "execution_count": 13,
   "id": "899492f8",
   "metadata": {
    "execution": {
     "iopub.execute_input": "2025-08-29T11:35:22.778804Z",
     "iopub.status.busy": "2025-08-29T11:35:22.778452Z",
     "iopub.status.idle": "2025-08-29T11:35:22.786288Z",
     "shell.execute_reply": "2025-08-29T11:35:22.784598Z"
    },
    "papermill": {
     "duration": 0.018785,
     "end_time": "2025-08-29T11:35:22.788481",
     "exception": false,
     "start_time": "2025-08-29T11:35:22.769696",
     "status": "completed"
    },
    "tags": []
   },
   "outputs": [
    {
     "name": "stdout",
     "output_type": "stream",
     "text": [
      "0      1\n",
      "1      0\n",
      "2      1\n",
      "3      0\n",
      "4      1\n",
      "      ..\n",
      "763    0\n",
      "764    0\n",
      "765    0\n",
      "766    1\n",
      "767    0\n",
      "Name: Outcome, Length: 768, dtype: int64\n"
     ]
    }
   ],
   "source": [
    "print(Y)"
   ]
  },
  {
   "cell_type": "markdown",
   "id": "45c9bd2e",
   "metadata": {
    "papermill": {
     "duration": 0.006607,
     "end_time": "2025-08-29T11:35:22.802993",
     "exception": false,
     "start_time": "2025-08-29T11:35:22.796386",
     "status": "completed"
    },
    "tags": []
   },
   "source": [
    "## Data Standardization"
   ]
  },
  {
   "cell_type": "code",
   "execution_count": 14,
   "id": "9fab5e54",
   "metadata": {
    "execution": {
     "iopub.execute_input": "2025-08-29T11:35:22.818646Z",
     "iopub.status.busy": "2025-08-29T11:35:22.818271Z",
     "iopub.status.idle": "2025-08-29T11:35:22.822703Z",
     "shell.execute_reply": "2025-08-29T11:35:22.821776Z"
    },
    "papermill": {
     "duration": 0.014556,
     "end_time": "2025-08-29T11:35:22.824916",
     "exception": false,
     "start_time": "2025-08-29T11:35:22.810360",
     "status": "completed"
    },
    "tags": []
   },
   "outputs": [],
   "source": [
    "# Making an instance of the scaler\n",
    "scaler = StandardScaler()"
   ]
  },
  {
   "cell_type": "code",
   "execution_count": 15,
   "id": "dce1f648",
   "metadata": {
    "execution": {
     "iopub.execute_input": "2025-08-29T11:35:22.840962Z",
     "iopub.status.busy": "2025-08-29T11:35:22.840590Z",
     "iopub.status.idle": "2025-08-29T11:35:22.855603Z",
     "shell.execute_reply": "2025-08-29T11:35:22.854605Z"
    },
    "papermill": {
     "duration": 0.024598,
     "end_time": "2025-08-29T11:35:22.857270",
     "exception": false,
     "start_time": "2025-08-29T11:35:22.832672",
     "status": "completed"
    },
    "tags": []
   },
   "outputs": [
    {
     "data": {
      "text/html": [
       "<style>#sk-container-id-1 {color: black;background-color: white;}#sk-container-id-1 pre{padding: 0;}#sk-container-id-1 div.sk-toggleable {background-color: white;}#sk-container-id-1 label.sk-toggleable__label {cursor: pointer;display: block;width: 100%;margin-bottom: 0;padding: 0.3em;box-sizing: border-box;text-align: center;}#sk-container-id-1 label.sk-toggleable__label-arrow:before {content: \"▸\";float: left;margin-right: 0.25em;color: #696969;}#sk-container-id-1 label.sk-toggleable__label-arrow:hover:before {color: black;}#sk-container-id-1 div.sk-estimator:hover label.sk-toggleable__label-arrow:before {color: black;}#sk-container-id-1 div.sk-toggleable__content {max-height: 0;max-width: 0;overflow: hidden;text-align: left;background-color: #f0f8ff;}#sk-container-id-1 div.sk-toggleable__content pre {margin: 0.2em;color: black;border-radius: 0.25em;background-color: #f0f8ff;}#sk-container-id-1 input.sk-toggleable__control:checked~div.sk-toggleable__content {max-height: 200px;max-width: 100%;overflow: auto;}#sk-container-id-1 input.sk-toggleable__control:checked~label.sk-toggleable__label-arrow:before {content: \"▾\";}#sk-container-id-1 div.sk-estimator input.sk-toggleable__control:checked~label.sk-toggleable__label {background-color: #d4ebff;}#sk-container-id-1 div.sk-label input.sk-toggleable__control:checked~label.sk-toggleable__label {background-color: #d4ebff;}#sk-container-id-1 input.sk-hidden--visually {border: 0;clip: rect(1px 1px 1px 1px);clip: rect(1px, 1px, 1px, 1px);height: 1px;margin: -1px;overflow: hidden;padding: 0;position: absolute;width: 1px;}#sk-container-id-1 div.sk-estimator {font-family: monospace;background-color: #f0f8ff;border: 1px dotted black;border-radius: 0.25em;box-sizing: border-box;margin-bottom: 0.5em;}#sk-container-id-1 div.sk-estimator:hover {background-color: #d4ebff;}#sk-container-id-1 div.sk-parallel-item::after {content: \"\";width: 100%;border-bottom: 1px solid gray;flex-grow: 1;}#sk-container-id-1 div.sk-label:hover label.sk-toggleable__label {background-color: #d4ebff;}#sk-container-id-1 div.sk-serial::before {content: \"\";position: absolute;border-left: 1px solid gray;box-sizing: border-box;top: 0;bottom: 0;left: 50%;z-index: 0;}#sk-container-id-1 div.sk-serial {display: flex;flex-direction: column;align-items: center;background-color: white;padding-right: 0.2em;padding-left: 0.2em;position: relative;}#sk-container-id-1 div.sk-item {position: relative;z-index: 1;}#sk-container-id-1 div.sk-parallel {display: flex;align-items: stretch;justify-content: center;background-color: white;position: relative;}#sk-container-id-1 div.sk-item::before, #sk-container-id-1 div.sk-parallel-item::before {content: \"\";position: absolute;border-left: 1px solid gray;box-sizing: border-box;top: 0;bottom: 0;left: 50%;z-index: -1;}#sk-container-id-1 div.sk-parallel-item {display: flex;flex-direction: column;z-index: 1;position: relative;background-color: white;}#sk-container-id-1 div.sk-parallel-item:first-child::after {align-self: flex-end;width: 50%;}#sk-container-id-1 div.sk-parallel-item:last-child::after {align-self: flex-start;width: 50%;}#sk-container-id-1 div.sk-parallel-item:only-child::after {width: 0;}#sk-container-id-1 div.sk-dashed-wrapped {border: 1px dashed gray;margin: 0 0.4em 0.5em 0.4em;box-sizing: border-box;padding-bottom: 0.4em;background-color: white;}#sk-container-id-1 div.sk-label label {font-family: monospace;font-weight: bold;display: inline-block;line-height: 1.2em;}#sk-container-id-1 div.sk-label-container {text-align: center;}#sk-container-id-1 div.sk-container {/* jupyter's `normalize.less` sets `[hidden] { display: none; }` but bootstrap.min.css set `[hidden] { display: none !important; }` so we also need the `!important` here to be able to override the default hidden behavior on the sphinx rendered scikit-learn.org. See: https://github.com/scikit-learn/scikit-learn/issues/21755 */display: inline-block !important;position: relative;}#sk-container-id-1 div.sk-text-repr-fallback {display: none;}</style><div id=\"sk-container-id-1\" class=\"sk-top-container\"><div class=\"sk-text-repr-fallback\"><pre>StandardScaler()</pre><b>In a Jupyter environment, please rerun this cell to show the HTML representation or trust the notebook. <br />On GitHub, the HTML representation is unable to render, please try loading this page with nbviewer.org.</b></div><div class=\"sk-container\" hidden><div class=\"sk-item\"><div class=\"sk-estimator sk-toggleable\"><input class=\"sk-toggleable__control sk-hidden--visually\" id=\"sk-estimator-id-1\" type=\"checkbox\" checked><label for=\"sk-estimator-id-1\" class=\"sk-toggleable__label sk-toggleable__label-arrow\">StandardScaler</label><div class=\"sk-toggleable__content\"><pre>StandardScaler()</pre></div></div></div></div></div>"
      ],
      "text/plain": [
       "StandardScaler()"
      ]
     },
     "execution_count": 15,
     "metadata": {},
     "output_type": "execute_result"
    }
   ],
   "source": [
    "# Fitting the data into the scaler instance\n",
    "scaler.fit(X)"
   ]
  },
  {
   "cell_type": "code",
   "execution_count": 16,
   "id": "2e97d510",
   "metadata": {
    "execution": {
     "iopub.execute_input": "2025-08-29T11:35:22.873438Z",
     "iopub.status.busy": "2025-08-29T11:35:22.872976Z",
     "iopub.status.idle": "2025-08-29T11:35:22.880070Z",
     "shell.execute_reply": "2025-08-29T11:35:22.879134Z"
    },
    "papermill": {
     "duration": 0.016889,
     "end_time": "2025-08-29T11:35:22.881664",
     "exception": false,
     "start_time": "2025-08-29T11:35:22.864775",
     "status": "completed"
    },
    "tags": []
   },
   "outputs": [],
   "source": [
    "# Transforming the data function\n",
    "standardized_data = scaler.transform(X)"
   ]
  },
  {
   "cell_type": "code",
   "execution_count": 17,
   "id": "3aeb49cb",
   "metadata": {
    "execution": {
     "iopub.execute_input": "2025-08-29T11:35:22.897696Z",
     "iopub.status.busy": "2025-08-29T11:35:22.897353Z",
     "iopub.status.idle": "2025-08-29T11:35:22.903475Z",
     "shell.execute_reply": "2025-08-29T11:35:22.902360Z"
    },
    "papermill": {
     "duration": 0.016333,
     "end_time": "2025-08-29T11:35:22.905212",
     "exception": false,
     "start_time": "2025-08-29T11:35:22.888879",
     "status": "completed"
    },
    "tags": []
   },
   "outputs": [
    {
     "name": "stdout",
     "output_type": "stream",
     "text": [
      "[[ 0.63994726  0.84832379  0.14964075 ...  0.20401277  0.46849198\n",
      "   1.4259954 ]\n",
      " [-0.84488505 -1.12339636 -0.16054575 ... -0.68442195 -0.36506078\n",
      "  -0.19067191]\n",
      " [ 1.23388019  1.94372388 -0.26394125 ... -1.10325546  0.60439732\n",
      "  -0.10558415]\n",
      " ...\n",
      " [ 0.3429808   0.00330087  0.14964075 ... -0.73518964 -0.68519336\n",
      "  -0.27575966]\n",
      " [-0.84488505  0.1597866  -0.47073225 ... -0.24020459 -0.37110101\n",
      "   1.17073215]\n",
      " [-0.84488505 -0.8730192   0.04624525 ... -0.20212881 -0.47378505\n",
      "  -0.87137393]]\n"
     ]
    }
   ],
   "source": [
    "print(standardized_data)"
   ]
  },
  {
   "cell_type": "code",
   "execution_count": 18,
   "id": "9be90add",
   "metadata": {
    "execution": {
     "iopub.execute_input": "2025-08-29T11:35:22.920533Z",
     "iopub.status.busy": "2025-08-29T11:35:22.920201Z",
     "iopub.status.idle": "2025-08-29T11:35:22.924858Z",
     "shell.execute_reply": "2025-08-29T11:35:22.923970Z"
    },
    "papermill": {
     "duration": 0.014167,
     "end_time": "2025-08-29T11:35:22.926518",
     "exception": false,
     "start_time": "2025-08-29T11:35:22.912351",
     "status": "completed"
    },
    "tags": []
   },
   "outputs": [],
   "source": [
    "# Assigning the new values to 'X'\n",
    "X = standardized_data"
   ]
  },
  {
   "cell_type": "code",
   "execution_count": 19,
   "id": "b4dbc494",
   "metadata": {
    "execution": {
     "iopub.execute_input": "2025-08-29T11:35:22.942292Z",
     "iopub.status.busy": "2025-08-29T11:35:22.941947Z",
     "iopub.status.idle": "2025-08-29T11:35:22.949302Z",
     "shell.execute_reply": "2025-08-29T11:35:22.948075Z"
    },
    "papermill": {
     "duration": 0.017,
     "end_time": "2025-08-29T11:35:22.951010",
     "exception": false,
     "start_time": "2025-08-29T11:35:22.934010",
     "status": "completed"
    },
    "tags": []
   },
   "outputs": [
    {
     "name": "stdout",
     "output_type": "stream",
     "text": [
      "[[ 0.63994726  0.84832379  0.14964075 ...  0.20401277  0.46849198\n",
      "   1.4259954 ]\n",
      " [-0.84488505 -1.12339636 -0.16054575 ... -0.68442195 -0.36506078\n",
      "  -0.19067191]\n",
      " [ 1.23388019  1.94372388 -0.26394125 ... -1.10325546  0.60439732\n",
      "  -0.10558415]\n",
      " ...\n",
      " [ 0.3429808   0.00330087  0.14964075 ... -0.73518964 -0.68519336\n",
      "  -0.27575966]\n",
      " [-0.84488505  0.1597866  -0.47073225 ... -0.24020459 -0.37110101\n",
      "   1.17073215]\n",
      " [-0.84488505 -0.8730192   0.04624525 ... -0.20212881 -0.47378505\n",
      "  -0.87137393]]\n",
      "0      1\n",
      "1      0\n",
      "2      1\n",
      "3      0\n",
      "4      1\n",
      "      ..\n",
      "763    0\n",
      "764    0\n",
      "765    0\n",
      "766    1\n",
      "767    0\n",
      "Name: Outcome, Length: 768, dtype: int64\n"
     ]
    }
   ],
   "source": [
    "print(X)\n",
    "print(Y)"
   ]
  },
  {
   "cell_type": "markdown",
   "id": "04fb5960",
   "metadata": {
    "papermill": {
     "duration": 0.006732,
     "end_time": "2025-08-29T11:35:22.965278",
     "exception": false,
     "start_time": "2025-08-29T11:35:22.958546",
     "status": "completed"
    },
    "tags": []
   },
   "source": [
    "## Splitting the data into training and test data"
   ]
  },
  {
   "cell_type": "code",
   "execution_count": 20,
   "id": "5d5b2515",
   "metadata": {
    "execution": {
     "iopub.execute_input": "2025-08-29T11:35:22.980673Z",
     "iopub.status.busy": "2025-08-29T11:35:22.980332Z",
     "iopub.status.idle": "2025-08-29T11:35:22.987865Z",
     "shell.execute_reply": "2025-08-29T11:35:22.986609Z"
    },
    "papermill": {
     "duration": 0.0174,
     "end_time": "2025-08-29T11:35:22.989831",
     "exception": false,
     "start_time": "2025-08-29T11:35:22.972431",
     "status": "completed"
    },
    "tags": []
   },
   "outputs": [],
   "source": [
    "X_Train,X_Test,Y_Train,Y_Test = train_test_split(X,Y,test_size=0.2,random_state=2)"
   ]
  },
  {
   "cell_type": "code",
   "execution_count": 21,
   "id": "9c95c0d3",
   "metadata": {
    "execution": {
     "iopub.execute_input": "2025-08-29T11:35:23.005598Z",
     "iopub.status.busy": "2025-08-29T11:35:23.005289Z",
     "iopub.status.idle": "2025-08-29T11:35:23.010660Z",
     "shell.execute_reply": "2025-08-29T11:35:23.009656Z"
    },
    "papermill": {
     "duration": 0.015205,
     "end_time": "2025-08-29T11:35:23.012337",
     "exception": false,
     "start_time": "2025-08-29T11:35:22.997132",
     "status": "completed"
    },
    "tags": []
   },
   "outputs": [
    {
     "name": "stdout",
     "output_type": "stream",
     "text": [
      "(768, 8) (614, 8) (154, 8)\n"
     ]
    }
   ],
   "source": [
    "print(X.shape, X_Train.shape, X_Test.shape)"
   ]
  },
  {
   "cell_type": "markdown",
   "id": "42f0ce72",
   "metadata": {
    "papermill": {
     "duration": 0.007449,
     "end_time": "2025-08-29T11:35:23.027676",
     "exception": false,
     "start_time": "2025-08-29T11:35:23.020227",
     "status": "completed"
    },
    "tags": []
   },
   "source": [
    "# Training the model"
   ]
  },
  {
   "cell_type": "markdown",
   "id": "b970f869",
   "metadata": {
    "papermill": {
     "duration": 0.006855,
     "end_time": "2025-08-29T11:35:23.042392",
     "exception": false,
     "start_time": "2025-08-29T11:35:23.035537",
     "status": "completed"
    },
    "tags": []
   },
   "source": [
    "## Using SVM Classifier"
   ]
  },
  {
   "cell_type": "code",
   "execution_count": 22,
   "id": "5d4ead72",
   "metadata": {
    "execution": {
     "iopub.execute_input": "2025-08-29T11:35:23.057848Z",
     "iopub.status.busy": "2025-08-29T11:35:23.057489Z",
     "iopub.status.idle": "2025-08-29T11:35:23.062349Z",
     "shell.execute_reply": "2025-08-29T11:35:23.061259Z"
    },
    "papermill": {
     "duration": 0.01456,
     "end_time": "2025-08-29T11:35:23.064116",
     "exception": false,
     "start_time": "2025-08-29T11:35:23.049556",
     "status": "completed"
    },
    "tags": []
   },
   "outputs": [],
   "source": [
    "classifier = svm.SVC(kernel = 'linear')"
   ]
  },
  {
   "cell_type": "code",
   "execution_count": 23,
   "id": "8f3c1003",
   "metadata": {
    "execution": {
     "iopub.execute_input": "2025-08-29T11:35:23.080372Z",
     "iopub.status.busy": "2025-08-29T11:35:23.080070Z",
     "iopub.status.idle": "2025-08-29T11:35:23.103424Z",
     "shell.execute_reply": "2025-08-29T11:35:23.102472Z"
    },
    "papermill": {
     "duration": 0.033515,
     "end_time": "2025-08-29T11:35:23.104973",
     "exception": false,
     "start_time": "2025-08-29T11:35:23.071458",
     "status": "completed"
    },
    "tags": []
   },
   "outputs": [
    {
     "data": {
      "text/html": [
       "<style>#sk-container-id-2 {color: black;background-color: white;}#sk-container-id-2 pre{padding: 0;}#sk-container-id-2 div.sk-toggleable {background-color: white;}#sk-container-id-2 label.sk-toggleable__label {cursor: pointer;display: block;width: 100%;margin-bottom: 0;padding: 0.3em;box-sizing: border-box;text-align: center;}#sk-container-id-2 label.sk-toggleable__label-arrow:before {content: \"▸\";float: left;margin-right: 0.25em;color: #696969;}#sk-container-id-2 label.sk-toggleable__label-arrow:hover:before {color: black;}#sk-container-id-2 div.sk-estimator:hover label.sk-toggleable__label-arrow:before {color: black;}#sk-container-id-2 div.sk-toggleable__content {max-height: 0;max-width: 0;overflow: hidden;text-align: left;background-color: #f0f8ff;}#sk-container-id-2 div.sk-toggleable__content pre {margin: 0.2em;color: black;border-radius: 0.25em;background-color: #f0f8ff;}#sk-container-id-2 input.sk-toggleable__control:checked~div.sk-toggleable__content {max-height: 200px;max-width: 100%;overflow: auto;}#sk-container-id-2 input.sk-toggleable__control:checked~label.sk-toggleable__label-arrow:before {content: \"▾\";}#sk-container-id-2 div.sk-estimator input.sk-toggleable__control:checked~label.sk-toggleable__label {background-color: #d4ebff;}#sk-container-id-2 div.sk-label input.sk-toggleable__control:checked~label.sk-toggleable__label {background-color: #d4ebff;}#sk-container-id-2 input.sk-hidden--visually {border: 0;clip: rect(1px 1px 1px 1px);clip: rect(1px, 1px, 1px, 1px);height: 1px;margin: -1px;overflow: hidden;padding: 0;position: absolute;width: 1px;}#sk-container-id-2 div.sk-estimator {font-family: monospace;background-color: #f0f8ff;border: 1px dotted black;border-radius: 0.25em;box-sizing: border-box;margin-bottom: 0.5em;}#sk-container-id-2 div.sk-estimator:hover {background-color: #d4ebff;}#sk-container-id-2 div.sk-parallel-item::after {content: \"\";width: 100%;border-bottom: 1px solid gray;flex-grow: 1;}#sk-container-id-2 div.sk-label:hover label.sk-toggleable__label {background-color: #d4ebff;}#sk-container-id-2 div.sk-serial::before {content: \"\";position: absolute;border-left: 1px solid gray;box-sizing: border-box;top: 0;bottom: 0;left: 50%;z-index: 0;}#sk-container-id-2 div.sk-serial {display: flex;flex-direction: column;align-items: center;background-color: white;padding-right: 0.2em;padding-left: 0.2em;position: relative;}#sk-container-id-2 div.sk-item {position: relative;z-index: 1;}#sk-container-id-2 div.sk-parallel {display: flex;align-items: stretch;justify-content: center;background-color: white;position: relative;}#sk-container-id-2 div.sk-item::before, #sk-container-id-2 div.sk-parallel-item::before {content: \"\";position: absolute;border-left: 1px solid gray;box-sizing: border-box;top: 0;bottom: 0;left: 50%;z-index: -1;}#sk-container-id-2 div.sk-parallel-item {display: flex;flex-direction: column;z-index: 1;position: relative;background-color: white;}#sk-container-id-2 div.sk-parallel-item:first-child::after {align-self: flex-end;width: 50%;}#sk-container-id-2 div.sk-parallel-item:last-child::after {align-self: flex-start;width: 50%;}#sk-container-id-2 div.sk-parallel-item:only-child::after {width: 0;}#sk-container-id-2 div.sk-dashed-wrapped {border: 1px dashed gray;margin: 0 0.4em 0.5em 0.4em;box-sizing: border-box;padding-bottom: 0.4em;background-color: white;}#sk-container-id-2 div.sk-label label {font-family: monospace;font-weight: bold;display: inline-block;line-height: 1.2em;}#sk-container-id-2 div.sk-label-container {text-align: center;}#sk-container-id-2 div.sk-container {/* jupyter's `normalize.less` sets `[hidden] { display: none; }` but bootstrap.min.css set `[hidden] { display: none !important; }` so we also need the `!important` here to be able to override the default hidden behavior on the sphinx rendered scikit-learn.org. See: https://github.com/scikit-learn/scikit-learn/issues/21755 */display: inline-block !important;position: relative;}#sk-container-id-2 div.sk-text-repr-fallback {display: none;}</style><div id=\"sk-container-id-2\" class=\"sk-top-container\"><div class=\"sk-text-repr-fallback\"><pre>SVC(kernel=&#x27;linear&#x27;)</pre><b>In a Jupyter environment, please rerun this cell to show the HTML representation or trust the notebook. <br />On GitHub, the HTML representation is unable to render, please try loading this page with nbviewer.org.</b></div><div class=\"sk-container\" hidden><div class=\"sk-item\"><div class=\"sk-estimator sk-toggleable\"><input class=\"sk-toggleable__control sk-hidden--visually\" id=\"sk-estimator-id-2\" type=\"checkbox\" checked><label for=\"sk-estimator-id-2\" class=\"sk-toggleable__label sk-toggleable__label-arrow\">SVC</label><div class=\"sk-toggleable__content\"><pre>SVC(kernel=&#x27;linear&#x27;)</pre></div></div></div></div></div>"
      ],
      "text/plain": [
       "SVC(kernel='linear')"
      ]
     },
     "execution_count": 23,
     "metadata": {},
     "output_type": "execute_result"
    }
   ],
   "source": [
    "#training the svm classifier\n",
    "classifier.fit(X_Train,Y_Train)"
   ]
  },
  {
   "cell_type": "markdown",
   "id": "121f6dce",
   "metadata": {
    "papermill": {
     "duration": 0.006984,
     "end_time": "2025-08-29T11:35:23.119591",
     "exception": false,
     "start_time": "2025-08-29T11:35:23.112607",
     "status": "completed"
    },
    "tags": []
   },
   "source": [
    "# Model Evaluation"
   ]
  },
  {
   "cell_type": "markdown",
   "id": "8c85bf56",
   "metadata": {
    "papermill": {
     "duration": 0.007057,
     "end_time": "2025-08-29T11:35:23.134210",
     "exception": false,
     "start_time": "2025-08-29T11:35:23.127153",
     "status": "completed"
    },
    "tags": []
   },
   "source": [
    "## Accuracy Score"
   ]
  },
  {
   "cell_type": "code",
   "execution_count": 24,
   "id": "b3bb38de",
   "metadata": {
    "execution": {
     "iopub.execute_input": "2025-08-29T11:35:23.227135Z",
     "iopub.status.busy": "2025-08-29T11:35:23.226835Z",
     "iopub.status.idle": "2025-08-29T11:35:23.237527Z",
     "shell.execute_reply": "2025-08-29T11:35:23.236498Z"
    },
    "papermill": {
     "duration": 0.022355,
     "end_time": "2025-08-29T11:35:23.239604",
     "exception": false,
     "start_time": "2025-08-29T11:35:23.217249",
     "status": "completed"
    },
    "tags": []
   },
   "outputs": [],
   "source": [
    "# Checking the accuracy of training data\n",
    "X_train_pred = classifier.predict(X_Train)\n",
    "training_accuracy = accuracy_score(X_train_pred, Y_Train)"
   ]
  },
  {
   "cell_type": "code",
   "execution_count": 25,
   "id": "4f40fef4",
   "metadata": {
    "execution": {
     "iopub.execute_input": "2025-08-29T11:35:23.255721Z",
     "iopub.status.busy": "2025-08-29T11:35:23.255353Z",
     "iopub.status.idle": "2025-08-29T11:35:23.261296Z",
     "shell.execute_reply": "2025-08-29T11:35:23.260021Z"
    },
    "papermill": {
     "duration": 0.015982,
     "end_time": "2025-08-29T11:35:23.263029",
     "exception": false,
     "start_time": "2025-08-29T11:35:23.247047",
     "status": "completed"
    },
    "tags": []
   },
   "outputs": [
    {
     "name": "stdout",
     "output_type": "stream",
     "text": [
      "Accuracy score on training data =  0.7719869706840391\n"
     ]
    }
   ],
   "source": [
    "print(\"Accuracy score on training data = \",training_accuracy)"
   ]
  },
  {
   "cell_type": "code",
   "execution_count": 26,
   "id": "95624526",
   "metadata": {
    "execution": {
     "iopub.execute_input": "2025-08-29T11:35:23.279627Z",
     "iopub.status.busy": "2025-08-29T11:35:23.279284Z",
     "iopub.status.idle": "2025-08-29T11:35:23.286308Z",
     "shell.execute_reply": "2025-08-29T11:35:23.285293Z"
    },
    "papermill": {
     "duration": 0.01749,
     "end_time": "2025-08-29T11:35:23.288343",
     "exception": false,
     "start_time": "2025-08-29T11:35:23.270853",
     "status": "completed"
    },
    "tags": []
   },
   "outputs": [],
   "source": [
    "# Checking the accuracy of testing data\n",
    "X_test_pred = classifier.predict(X_Test)\n",
    "testing_accuracy = accuracy_score(X_test_pred, Y_Test)"
   ]
  },
  {
   "cell_type": "code",
   "execution_count": 27,
   "id": "ee7efa58",
   "metadata": {
    "execution": {
     "iopub.execute_input": "2025-08-29T11:35:23.307319Z",
     "iopub.status.busy": "2025-08-29T11:35:23.306859Z",
     "iopub.status.idle": "2025-08-29T11:35:23.312430Z",
     "shell.execute_reply": "2025-08-29T11:35:23.311454Z"
    },
    "papermill": {
     "duration": 0.017402,
     "end_time": "2025-08-29T11:35:23.314089",
     "exception": false,
     "start_time": "2025-08-29T11:35:23.296687",
     "status": "completed"
    },
    "tags": []
   },
   "outputs": [
    {
     "name": "stdout",
     "output_type": "stream",
     "text": [
      "Accuracy score on testing data =  0.7662337662337663\n"
     ]
    }
   ],
   "source": [
    "print(\"Accuracy score on testing data = \",testing_accuracy)"
   ]
  },
  {
   "cell_type": "markdown",
   "id": "bb42e025",
   "metadata": {
    "papermill": {
     "duration": 0.007305,
     "end_time": "2025-08-29T11:35:23.329274",
     "exception": false,
     "start_time": "2025-08-29T11:35:23.321969",
     "status": "completed"
    },
    "tags": []
   },
   "source": [
    "# Making a predictive system"
   ]
  },
  {
   "cell_type": "code",
   "execution_count": 28,
   "id": "a0447c18",
   "metadata": {
    "execution": {
     "iopub.execute_input": "2025-08-29T11:35:23.345522Z",
     "iopub.status.busy": "2025-08-29T11:35:23.345221Z",
     "iopub.status.idle": "2025-08-29T11:35:23.356591Z",
     "shell.execute_reply": "2025-08-29T11:35:23.355473Z"
    },
    "papermill": {
     "duration": 0.021644,
     "end_time": "2025-08-29T11:35:23.358294",
     "exception": false,
     "start_time": "2025-08-29T11:35:23.336650",
     "status": "completed"
    },
    "tags": []
   },
   "outputs": [
    {
     "name": "stdout",
     "output_type": "stream",
     "text": [
      "[[ 0.63994726 -0.96691063  0.14964075  0.90726993 -0.69289057  0.20401277\n",
      "   0.46849198  1.4259954 ]]\n",
      "[0]\n",
      "The person is not diabetic\n"
     ]
    },
    {
     "name": "stderr",
     "output_type": "stream",
     "text": [
      "/usr/local/lib/python3.11/dist-packages/sklearn/base.py:439: UserWarning: X does not have valid feature names, but StandardScaler was fitted with feature names\n",
      "  warnings.warn(\n"
     ]
    }
   ],
   "source": [
    "# Taking an example input for prediction\n",
    "input_data = (6,\t90,\t72,\t35,\t0,\t33.6,\t0.627,\t50)\n",
    "\n",
    "#changing the imnput data to a nummpy array\n",
    "input_array = np.asarray(input_data)\n",
    "\n",
    "#reshape the array as we are predicting for one instance\n",
    "reshaped_input = input_array.reshape(1,-1)\n",
    "\n",
    "#data standardization\n",
    "std_data = scaler.transform(reshaped_input)\n",
    "print(std_data)\n",
    "\n",
    "prediction = classifier.predict(std_data)\n",
    "print(prediction)\n",
    "\n",
    "if (prediction[0] == 0):\n",
    "  print('The person is not diabetic')\n",
    "else:\n",
    "  print('The person is diabetic')"
   ]
  },
  {
   "cell_type": "code",
   "execution_count": null,
   "id": "89c2b80c",
   "metadata": {
    "papermill": {
     "duration": 0.007941,
     "end_time": "2025-08-29T11:35:23.373817",
     "exception": false,
     "start_time": "2025-08-29T11:35:23.365876",
     "status": "completed"
    },
    "tags": []
   },
   "outputs": [],
   "source": []
  }
 ],
 "metadata": {
  "kaggle": {
   "accelerator": "none",
   "dataSources": [
    {
     "datasetId": 2527538,
     "sourceId": 4289678,
     "sourceType": "datasetVersion"
    }
   ],
   "dockerImageVersionId": 31089,
   "isGpuEnabled": false,
   "isInternetEnabled": true,
   "language": "python",
   "sourceType": "notebook"
  },
  "kernelspec": {
   "display_name": "Python 3",
   "language": "python",
   "name": "python3"
  },
  "language_info": {
   "codemirror_mode": {
    "name": "ipython",
    "version": 3
   },
   "file_extension": ".py",
   "mimetype": "text/x-python",
   "name": "python",
   "nbconvert_exporter": "python",
   "pygments_lexer": "ipython3",
   "version": "3.11.13"
  },
  "papermill": {
   "default_parameters": {},
   "duration": 12.266818,
   "end_time": "2025-08-29T11:35:24.102854",
   "environment_variables": {},
   "exception": null,
   "input_path": "__notebook__.ipynb",
   "output_path": "__notebook__.ipynb",
   "parameters": {},
   "start_time": "2025-08-29T11:35:11.836036",
   "version": "2.6.0"
  }
 },
 "nbformat": 4,
 "nbformat_minor": 5
}
